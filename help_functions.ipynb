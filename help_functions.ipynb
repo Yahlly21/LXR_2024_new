{
 "cells": [
  {
   "cell_type": "code",
   "execution_count": 1,
   "id": "aca5f6cb",
   "metadata": {},
   "outputs": [],
   "source": [
    "import pandas as pd\n",
    "import numpy as np\n",
    "import os\n",
    "os.environ['KMP_DUPLICATE_LIB_OK'] = 'True'\n",
    "export_dir = os.getcwd()\n",
    "from pathlib import Path\n",
    "import pickle\n",
    "from collections import defaultdict\n",
    "import time\n",
    "import torch\n",
    "import torch.nn as nn\n",
    "import copy\n",
    "import torch.nn.functional as F\n",
    "import optuna\n",
    "import logging\n",
    "import matplotlib.pyplot as plt\n",
    "# import wandb"
   ]
  },
  {
   "cell_type": "code",
   "execution_count": 2,
   "id": "57327551",
   "metadata": {},
   "outputs": [],
   "source": [
    "# a function that samples different train data variation for better training\n",
    "def sample_indices(data, **kw):\n",
    "    num_items = kw['num_items']\n",
    "    pop_array = kw['pop_array']\n",
    "    \n",
    "    matrix = np.array(data)[:,:num_items]\n",
    "    zero_indices = []\n",
    "    one_indices = []\n",
    "\n",
    "    for row in matrix:\n",
    "        zero_idx = np.where(row == 0)[0]\n",
    "        one_idx = np.where(row == 1)[0]\n",
    "        probs = pop_array[zero_idx]\n",
    "        probs = probs/ np.sum(probs)\n",
    "\n",
    "        sampled_zero = np.random.choice(zero_idx, p = probs)\n",
    "        zero_indices.append(sampled_zero)\n",
    "\n",
    "        sampled_one = np.random.choice(one_idx)\n",
    "        data.iloc[row, sampled_one] = 0\n",
    "        one_indices.append(sampled_one)\n",
    "\n",
    "    data['pos'] = one_indices\n",
    "    data['neg'] = zero_indices\n",
    "    return np.array(data)"
   ]
  },
  {
   "cell_type": "code",
   "execution_count": 10,
   "id": "a4dc1cca",
   "metadata": {},
   "outputs": [],
   "source": [
    "def get_index_in_the_list(user_tensor, original_user_tensor, item_id, recommender, **kw):\n",
    "    top_k_list = list(get_top_k(user_tensor, original_user_tensor, recommender, **kw).keys())\n",
    "    return top_k_list.index(item_id)"
   ]
  },
  {
   "cell_type": "code",
   "execution_count": 12,
   "id": "99fbbe32",
   "metadata": {},
   "outputs": [],
   "source": [
    "def get_top_k(user_tensor, original_user_tensor, model, **kw):\n",
    "    all_items_tensor = kw['all_items_tensor']\n",
    "    item_prob_dict = {}\n",
    "    output_model = [float(i) for i in recommender_run(user_tensor, model, all_items_tensor, None, 'vector', **kw).cpu().detach().numpy()]\n",
    "    original_user_vector = np.array(original_user_tensor.cpu())\n",
    "    catalog = np.ones_like(original_user_vector)- original_user_vector\n",
    "    output = catalog*output_model\n",
    "    for i in range(len(output)):\n",
    "        if catalog[i] > 0:\n",
    "            item_prob_dict[i]=output[i]\n",
    "    sorted_items_by_prob  = sorted(item_prob_dict.items(), key=lambda item: item[1],reverse=True)\n",
    "    return dict(sorted_items_by_prob)"
   ]
  },
  {
   "cell_type": "code",
   "execution_count": 5,
   "id": "50da5217",
   "metadata": {},
   "outputs": [],
   "source": [
    "def recommender_run(user_tensor, recommender, item_tensor = None, item_id= None, wanted_output = 'single', **kw):\n",
    "    output_type=kw['output_type']\n",
    "    if output_type == 'single':\n",
    "        if wanted_output == 'single':\n",
    "            return recommender(user_tensor, item_tensor)\n",
    "        else:\n",
    "            return recommender(user_tensor, item_tensor).squeeze()\n",
    "    else:\n",
    "        if wanted_output == 'single':\n",
    "            return recommender(user_tensor).squeeze()[item_id]\n",
    "        else:\n",
    "            return recommender(user_tensor).squeeze()"
   ]
  },
  {
   "cell_type": "code",
   "execution_count": 6,
   "id": "ba9c0c58",
   "metadata": {},
   "outputs": [],
   "source": [
    "def recommender_evaluations(recommender, **kw):\n",
    "    static_test_data = kw['static_test_data'].copy()\n",
    "    device = kw['device']\n",
    "    items_array = kw['items_array']\n",
    "    num_items = kw['num_items']\n",
    "\n",
    "    counter_10 = 0\n",
    "    counter_50 = 0\n",
    "    counter_100 = 0\n",
    "    RR = 0\n",
    "    PR = 0\n",
    "    temp_test_array = np.array(static_test_data)\n",
    "    n = temp_test_array.shape[0]\n",
    "    for i in range(n):\n",
    "        item_id = temp_test_array[i][-2]\n",
    "        item_tensor = items_array[item_id]\n",
    "        user_tensor = torch.Tensor(temp_test_array[i][:-2]).to(device)\n",
    "        user_tensor[item_id]=0\n",
    "        index = get_index_in_the_list(user_tensor, user_tensor, item_id, recommender, **kw) +1 \n",
    "        if index <= 10:\n",
    "            counter_10 +=1 \n",
    "        if index <= 50:\n",
    "            counter_50 +=1 \n",
    "        if index <= 100:\n",
    "            counter_100 +=1             \n",
    "        RR += np.reciprocal(index)\n",
    "        PR += index/num_items\n",
    "        \n",
    "    return counter_10/n, counter_50/n, counter_100/n,  RR/n, PR*100/n"
   ]
  },
  {
   "cell_type": "code",
   "execution_count": 7,
   "id": "163acc2a",
   "metadata": {},
   "outputs": [],
   "source": [
    "def get_user_recommended_item(user_tensor, recommender, **kw):\n",
    "    all_items_tensor = kw['all_items_tensor']\n",
    "    num_items = kw['num_items']\n",
    "    user_res = recommender_run(user_tensor, recommender, all_items_tensor, None, 'vector', **kw)[:num_items]\n",
    "    user_tensor = user_tensor[:num_items]\n",
    "    user_catalog = torch.ones_like(user_tensor)-user_tensor\n",
    "    user_recommenations = torch.mul(user_res, user_catalog)\n",
    "    return(torch.argmax(user_recommenations))"
   ]
  },
  {
   "cell_type": "code",
   "execution_count": 14,
   "id": "48d782ce",
   "metadata": {},
   "outputs": [],
   "source": [
    "def get_ndcg(ranked_list, target_item, **kw):\n",
    "    device = kw['device']\n",
    "    if target_item not in ranked_list:\n",
    "        return 0.0\n",
    "\n",
    "    target_idx = torch.tensor(ranked_list.index(target_item), device=device)\n",
    "    dcg = torch.reciprocal(torch.log2(target_idx + 2))\n",
    "\n",
    "    return dcg.item()"
   ]
  }
 ],
 "metadata": {
  "kernelspec": {
   "display_name": "Python 3 (ipykernel)",
   "language": "python",
   "name": "python3"
  },
  "language_info": {
   "codemirror_mode": {
    "name": "ipython",
    "version": 3
   },
   "file_extension": ".py",
   "mimetype": "text/x-python",
   "name": "python",
   "nbconvert_exporter": "python",
   "pygments_lexer": "ipython3",
   "version": "3.11.5"
  }
 },
 "nbformat": 4,
 "nbformat_minor": 5
}
